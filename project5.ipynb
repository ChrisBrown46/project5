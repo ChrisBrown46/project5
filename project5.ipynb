{
 "cells": [
  {
   "cell_type": "markdown",
   "metadata": {},
   "source": [
    "# Data Science Incubator Project 5"
   ]
  },
  {
   "cell_type": "markdown",
   "metadata": {},
   "source": [
    "## Imports and settings"
   ]
  },
  {
   "cell_type": "code",
   "execution_count": 11,
   "metadata": {},
   "outputs": [
    {
     "name": "stderr",
     "output_type": "stream",
     "text": [
      "[nltk_data] Downloading package stopwords to\n",
      "[nltk_data]     /home/walters_aj101/nltk_data...\n",
      "[nltk_data]   Package stopwords is already up-to-date!\n"
     ]
    }
   ],
   "source": [
    "# Python imports\n",
    "import random as rn\n",
    "import pickle\n",
    "\n",
    "# Numerical imports\n",
    "import numpy as np\n",
    "import pandas as pd\n",
    "from sklearn.feature_extraction.text import CountVectorizer\n",
    "from sklearn.metrics import classification_report, confusion_matrix\n",
    "from sklearn.model_selection import train_test_split\n",
    "from sklearn.naive_bayes import BernoulliNB, MultinomialNB\n",
    "\n",
    "# NLP packages\n",
    "import re\n",
    "import nltk\n",
    "nltk.download(\"stopwords\")\n",
    "from nltk.corpus import stopwords\n",
    "from nltk.stem.porter import PorterStemmer\n",
    "from gensim.models import Word2Vec\n",
    "\n",
    "# Plotting imports\n",
    "%matplotlib inline\n",
    "import matplotlib\n",
    "import matplotlib.pyplot as plt\n",
    "import seaborn as sns\n",
    "\n",
    "# Plotting settings\n",
    "sns.set()\n",
    "sns.set_palette(\"colorblind\")\n",
    "sns.set_style(\"ticks\")\n",
    "\n",
    "# Seed randomness\n",
    "rn.seed(0)"
   ]
  },
  {
   "cell_type": "markdown",
   "metadata": {},
   "source": [
    "## Load data - and split (optional)"
   ]
  },
  {
   "cell_type": "code",
   "execution_count": 12,
   "metadata": {},
   "outputs": [
    {
     "data": {
      "text/html": [
       "<div>\n",
       "<style scoped>\n",
       "    .dataframe tbody tr th:only-of-type {\n",
       "        vertical-align: middle;\n",
       "    }\n",
       "\n",
       "    .dataframe tbody tr th {\n",
       "        vertical-align: top;\n",
       "    }\n",
       "\n",
       "    .dataframe thead th {\n",
       "        text-align: right;\n",
       "    }\n",
       "</style>\n",
       "<table border=\"1\" class=\"dataframe\">\n",
       "  <thead>\n",
       "    <tr style=\"text-align: right;\">\n",
       "      <th></th>\n",
       "      <th>rating</th>\n",
       "      <th>title</th>\n",
       "      <th>review</th>\n",
       "    </tr>\n",
       "  </thead>\n",
       "  <tbody>\n",
       "    <tr>\n",
       "      <td>0</td>\n",
       "      <td>5</td>\n",
       "      <td>breville</td>\n",
       "      <td>I got it right before Xmas, so the shipment wa...</td>\n",
       "    </tr>\n",
       "    <tr>\n",
       "      <td>1</td>\n",
       "      <td>2</td>\n",
       "      <td>Poor Quality. Great idea.</td>\n",
       "      <td>Length:: 0:15 MinsThe batch (10 in all) of toy...</td>\n",
       "    </tr>\n",
       "    <tr>\n",
       "      <td>2</td>\n",
       "      <td>2</td>\n",
       "      <td>Tempering the positives...</td>\n",
       "      <td>I wanted to write my own review to temper the ...</td>\n",
       "    </tr>\n",
       "    <tr>\n",
       "      <td>3</td>\n",
       "      <td>2</td>\n",
       "      <td>Bad Movie</td>\n",
       "      <td>When I saw this movie I thought, \"How could an...</td>\n",
       "    </tr>\n",
       "    <tr>\n",
       "      <td>4</td>\n",
       "      <td>2</td>\n",
       "      <td>marble</td>\n",
       "      <td>There are no instructions on how or different ...</td>\n",
       "    </tr>\n",
       "    <tr>\n",
       "      <td>...</td>\n",
       "      <td>...</td>\n",
       "      <td>...</td>\n",
       "      <td>...</td>\n",
       "    </tr>\n",
       "    <tr>\n",
       "      <td>299989</td>\n",
       "      <td>3</td>\n",
       "      <td>This album has nothing you would want to see.</td>\n",
       "      <td>If you want good music check out the previous ...</td>\n",
       "    </tr>\n",
       "    <tr>\n",
       "      <td>299990</td>\n",
       "      <td>4</td>\n",
       "      <td>Great performance, easy to set up and use.</td>\n",
       "      <td>What's Hot:Cute design with great performance....</td>\n",
       "    </tr>\n",
       "    <tr>\n",
       "      <td>299991</td>\n",
       "      <td>1</td>\n",
       "      <td>Can you say \"cheesy\"?</td>\n",
       "      <td>I was hoping that with the glowing reviews tha...</td>\n",
       "    </tr>\n",
       "    <tr>\n",
       "      <td>299992</td>\n",
       "      <td>4</td>\n",
       "      <td>A welcome upgrade to Operation Flashpoint</td>\n",
       "      <td>The Good : Beautiful scenery and graphics, hug...</td>\n",
       "    </tr>\n",
       "    <tr>\n",
       "      <td>299993</td>\n",
       "      <td>3</td>\n",
       "      <td>Easier to use than Cuisinart</td>\n",
       "      <td>I really liked this chopper, it is easy to use...</td>\n",
       "    </tr>\n",
       "  </tbody>\n",
       "</table>\n",
       "<p>299994 rows × 3 columns</p>\n",
       "</div>"
      ],
      "text/plain": [
       "        rating                                          title  \\\n",
       "0            5                                       breville   \n",
       "1            2                      Poor Quality. Great idea.   \n",
       "2            2                     Tempering the positives...   \n",
       "3            2                                      Bad Movie   \n",
       "4            2                                         marble   \n",
       "...        ...                                            ...   \n",
       "299989       3  This album has nothing you would want to see.   \n",
       "299990       4     Great performance, easy to set up and use.   \n",
       "299991       1                          Can you say \"cheesy\"?   \n",
       "299992       4      A welcome upgrade to Operation Flashpoint   \n",
       "299993       3                   Easier to use than Cuisinart   \n",
       "\n",
       "                                                   review  \n",
       "0       I got it right before Xmas, so the shipment wa...  \n",
       "1       Length:: 0:15 MinsThe batch (10 in all) of toy...  \n",
       "2       I wanted to write my own review to temper the ...  \n",
       "3       When I saw this movie I thought, \"How could an...  \n",
       "4       There are no instructions on how or different ...  \n",
       "...                                                   ...  \n",
       "299989  If you want good music check out the previous ...  \n",
       "299990  What's Hot:Cute design with great performance....  \n",
       "299991  I was hoping that with the glowing reviews tha...  \n",
       "299992  The Good : Beautiful scenery and graphics, hug...  \n",
       "299993  I really liked this chopper, it is easy to use...  \n",
       "\n",
       "[299994 rows x 3 columns]"
      ]
     },
     "metadata": {},
     "output_type": "display_data"
    },
    {
     "data": {
      "text/html": [
       "<div>\n",
       "<style scoped>\n",
       "    .dataframe tbody tr th:only-of-type {\n",
       "        vertical-align: middle;\n",
       "    }\n",
       "\n",
       "    .dataframe tbody tr th {\n",
       "        vertical-align: top;\n",
       "    }\n",
       "\n",
       "    .dataframe thead th {\n",
       "        text-align: right;\n",
       "    }\n",
       "</style>\n",
       "<table border=\"1\" class=\"dataframe\">\n",
       "  <thead>\n",
       "    <tr style=\"text-align: right;\">\n",
       "      <th></th>\n",
       "      <th>rating</th>\n",
       "      <th>title</th>\n",
       "      <th>review</th>\n",
       "    </tr>\n",
       "  </thead>\n",
       "  <tbody>\n",
       "    <tr>\n",
       "      <td>0</td>\n",
       "      <td>2</td>\n",
       "      <td>So What?</td>\n",
       "      <td>What can I say about this book? Well, it's pro...</td>\n",
       "    </tr>\n",
       "    <tr>\n",
       "      <td>1</td>\n",
       "      <td>5</td>\n",
       "      <td>Rock'n'Roll Shangri-La</td>\n",
       "      <td>These guys came out of nowhere with spine-ting...</td>\n",
       "    </tr>\n",
       "    <tr>\n",
       "      <td>2</td>\n",
       "      <td>1</td>\n",
       "      <td>Need to Be Able to Label Them Repeatedly</td>\n",
       "      <td>My little guy started taking 6 ounces at a tim...</td>\n",
       "    </tr>\n",
       "    <tr>\n",
       "      <td>3</td>\n",
       "      <td>4</td>\n",
       "      <td>Not too bad</td>\n",
       "      <td>I have owned these scissors for several months...</td>\n",
       "    </tr>\n",
       "    <tr>\n",
       "      <td>4</td>\n",
       "      <td>1</td>\n",
       "      <td>Guilty of making trash</td>\n",
       "      <td>this is horrible, her latest single beat of my...</td>\n",
       "    </tr>\n",
       "    <tr>\n",
       "      <td>...</td>\n",
       "      <td>...</td>\n",
       "      <td>...</td>\n",
       "      <td>...</td>\n",
       "    </tr>\n",
       "    <tr>\n",
       "      <td>64995</td>\n",
       "      <td>1</td>\n",
       "      <td>An unhappy customer</td>\n",
       "      <td>We bought this journal for our daughter's 8th ...</td>\n",
       "    </tr>\n",
       "    <tr>\n",
       "      <td>64996</td>\n",
       "      <td>1</td>\n",
       "      <td>Ignore this book</td>\n",
       "      <td>I have read numerous submarine novels by autho...</td>\n",
       "    </tr>\n",
       "    <tr>\n",
       "      <td>64997</td>\n",
       "      <td>3</td>\n",
       "      <td>Ba-Humbug</td>\n",
       "      <td>Oh geez, Badu is soooooo annoyingly pretentiou...</td>\n",
       "    </tr>\n",
       "    <tr>\n",
       "      <td>64998</td>\n",
       "      <td>1</td>\n",
       "      <td>Vocals?</td>\n",
       "      <td>Flaw and FBM would be OK if they had a lead si...</td>\n",
       "    </tr>\n",
       "    <tr>\n",
       "      <td>64999</td>\n",
       "      <td>1</td>\n",
       "      <td>It's not that good.</td>\n",
       "      <td>The recipes follow one formula...all require b...</td>\n",
       "    </tr>\n",
       "  </tbody>\n",
       "</table>\n",
       "<p>65000 rows × 3 columns</p>\n",
       "</div>"
      ],
      "text/plain": [
       "       rating                                     title  \\\n",
       "0           2                                  So What?   \n",
       "1           5                    Rock'n'Roll Shangri-La   \n",
       "2           1  Need to Be Able to Label Them Repeatedly   \n",
       "3           4                               Not too bad   \n",
       "4           1                    Guilty of making trash   \n",
       "...       ...                                       ...   \n",
       "64995       1                       An unhappy customer   \n",
       "64996       1                          Ignore this book   \n",
       "64997       3                                 Ba-Humbug   \n",
       "64998       1                                   Vocals?   \n",
       "64999       1                       It's not that good.   \n",
       "\n",
       "                                                  review  \n",
       "0      What can I say about this book? Well, it's pro...  \n",
       "1      These guys came out of nowhere with spine-ting...  \n",
       "2      My little guy started taking 6 ounces at a tim...  \n",
       "3      I have owned these scissors for several months...  \n",
       "4      this is horrible, her latest single beat of my...  \n",
       "...                                                  ...  \n",
       "64995  We bought this journal for our daughter's 8th ...  \n",
       "64996  I have read numerous submarine novels by autho...  \n",
       "64997  Oh geez, Badu is soooooo annoyingly pretentiou...  \n",
       "64998  Flaw and FBM would be OK if they had a lead si...  \n",
       "64999  The recipes follow one formula...all require b...  \n",
       "\n",
       "[65000 rows x 3 columns]"
      ]
     },
     "metadata": {},
     "output_type": "display_data"
    }
   ],
   "source": [
    "def split_data(sample_rate=1e-3) -> None:\n",
    "    for split in [\"test\", \"train\"]:\n",
    "        data = pd.read_csv(f\"./data/{split}.csv\", header=None, names=[\"rating\", \"title\", \"review\"])\n",
    "        data = data.sample(frac=sample_rate)\n",
    "        data.to_csv(f\"./data/{split}_sample.csv\", index=False)\n",
    "\n",
    "# split_data(sample_rate=1e-1)  # 10% of data\n",
    "train = pd.read_csv(\"./data/train_sample.csv\")\n",
    "train.dropna(inplace=True)\n",
    "train.reset_index(drop=True, inplace=True)\n",
    "test = pd.read_csv(\"./data/test_sample.csv\")\n",
    "test.dropna(inplace=True)\n",
    "test.reset_index(drop=True, inplace=True)\n",
    "\n",
    "display(train)\n",
    "display(test)"
   ]
  },
  {
   "cell_type": "markdown",
   "metadata": {},
   "source": [
    "## Preprocess data"
   ]
  },
  {
   "cell_type": "code",
   "execution_count": 13,
   "metadata": {},
   "outputs": [],
   "source": [
    "def preprocess_data():\n",
    "    ps = PorterStemmer()\n",
    "    \n",
    "    corpus = []\n",
    "    for index in range(len(train)):\n",
    "        title = train.title[index]\n",
    "        review = train.review[index]\n",
    "\n",
    "        title = re.sub(r\"[^a-zA-Z]\", \" \", title).lower().split()\n",
    "        review = re.sub(r\"[^a-zA-Z]\", \" \", review).lower().split()\n",
    "\n",
    "        title = [ps.stem(word) for word in title if not word in set(stopwords.words(\"english\"))]\n",
    "        review = [ps.stem(word) for word in review if not word in set(stopwords.words(\"english\"))]\n",
    "\n",
    "        corpus.append(\" \".join(title + review))\n",
    "    train[\"corpus\"] = corpus\n",
    "    \n",
    "    corpus = []\n",
    "    for index in range(len(test)):\n",
    "        title = test.title[index]\n",
    "        review = test.review[index]\n",
    "\n",
    "        title = re.sub(r\"[^a-zA-Z]\", \" \", title).lower().split()\n",
    "        review = re.sub(r\"[^a-zA-Z]\", \" \", review).lower().split()\n",
    "\n",
    "        title = [ps.stem(word) for word in title if not word in set(stopwords.words(\"english\"))]\n",
    "        review = [ps.stem(word) for word in review if not word in set(stopwords.words(\"english\"))]\n",
    "\n",
    "        corpus.append(\" \".join(title + review))\n",
    "    test[\"corpus\"] = corpus\n",
    "    \n",
    "    train.to_csv(\"./data/train_sample_processed.csv\", index=False)\n",
    "    test.to_csv(\"./data/test_sample_processed.csv\", index=False)"
   ]
  },
  {
   "cell_type": "code",
   "execution_count": 15,
   "metadata": {},
   "outputs": [],
   "source": [
    "# preprocess_data()\n",
    "train = pd.read_csv(\"./data/train_sample_processed.csv\")\n",
    "test = pd.read_csv(\"./data/test_sample_processed.csv\")"
   ]
  },
  {
   "cell_type": "markdown",
   "metadata": {},
   "source": [
    "## Partition data into X and Y"
   ]
  },
  {
   "cell_type": "code",
   "execution_count": 85,
   "metadata": {},
   "outputs": [],
   "source": [
    "count_vectorizer = CountVectorizer(stop_words=\"english\")\n",
    "x = count_vectorizer.fit_transform(train.corpus)\n",
    "y = train.rating\n",
    "\n",
    "x_train, x_test, y_train, y_test = train_test_split(x, y)"
   ]
  },
  {
   "cell_type": "markdown",
   "metadata": {},
   "source": [
    "## Train classifier"
   ]
  },
  {
   "cell_type": "code",
   "execution_count": 86,
   "metadata": {},
   "outputs": [
    {
     "name": "stdout",
     "output_type": "stream",
     "text": [
      "BernoulliNB Model\n",
      "              precision    recall  f1-score   support\n",
      "\n",
      "           1       0.52      0.66      0.58     15075\n",
      "           2       0.41      0.33      0.37     14852\n",
      "           3       0.40      0.34      0.37     14789\n",
      "           4       0.43      0.30      0.35     15215\n",
      "           5       0.50      0.67      0.57     15068\n",
      "\n",
      "    accuracy                           0.46     74999\n",
      "   macro avg       0.45      0.46      0.45     74999\n",
      "weighted avg       0.45      0.46      0.45     74999\n",
      "\n",
      "\n"
     ]
    },
    {
     "data": {
      "text/html": [
       "<div>\n",
       "<style scoped>\n",
       "    .dataframe tbody tr th:only-of-type {\n",
       "        vertical-align: middle;\n",
       "    }\n",
       "\n",
       "    .dataframe tbody tr th {\n",
       "        vertical-align: top;\n",
       "    }\n",
       "\n",
       "    .dataframe thead th {\n",
       "        text-align: right;\n",
       "    }\n",
       "</style>\n",
       "<table border=\"1\" class=\"dataframe\">\n",
       "  <thead>\n",
       "    <tr style=\"text-align: right;\">\n",
       "      <th></th>\n",
       "      <th>rating</th>\n",
       "      <th>count</th>\n",
       "    </tr>\n",
       "  </thead>\n",
       "  <tbody>\n",
       "    <tr>\n",
       "      <td>0</td>\n",
       "      <td>1</td>\n",
       "      <td>19241</td>\n",
       "    </tr>\n",
       "    <tr>\n",
       "      <td>1</td>\n",
       "      <td>2</td>\n",
       "      <td>11825</td>\n",
       "    </tr>\n",
       "    <tr>\n",
       "      <td>2</td>\n",
       "      <td>3</td>\n",
       "      <td>12771</td>\n",
       "    </tr>\n",
       "    <tr>\n",
       "      <td>3</td>\n",
       "      <td>4</td>\n",
       "      <td>10852</td>\n",
       "    </tr>\n",
       "    <tr>\n",
       "      <td>4</td>\n",
       "      <td>5</td>\n",
       "      <td>20310</td>\n",
       "    </tr>\n",
       "  </tbody>\n",
       "</table>\n",
       "</div>"
      ],
      "text/plain": [
       "   rating  count\n",
       "0       1  19241\n",
       "1       2  11825\n",
       "2       3  12771\n",
       "3       4  10852\n",
       "4       5  20310"
      ]
     },
     "metadata": {},
     "output_type": "display_data"
    },
    {
     "data": {
      "image/png": "[encoded data removed]",
      "text/plain": [
       "<Figure size 432x288 with 1 Axes>"
      ]
     },
     "metadata": {},
     "output_type": "display_data"
    }
   ],
   "source": [
    "model = BernoulliNB()\n",
    "model.fit(x_train, y_train)\n",
    "y_pred = model.predict(x_test)\n",
    "\n",
    "print(\"BernoulliNB Model\")\n",
    "print(classification_report(y_test, y_pred))\n",
    "print()\n",
    "bnb = np.unique(y_pred, return_counts=True)\n",
    "bnb = pd.DataFrame(bnb).T\n",
    "bnb.columns = ['rating','count']\n",
    "display(bnb)\n",
    "\n",
    "plt.figure()\n",
    "sns.barplot(x='rating', y='count', data=bnb)\n",
    "plt.savefig('bnb', bbox_inches='tight')"
   ]
  },
  {
   "cell_type": "code",
   "execution_count": 87,
   "metadata": {},
   "outputs": [
    {
     "name": "stdout",
     "output_type": "stream",
     "text": [
      "MultinomialNB Model\n",
      "              precision    recall  f1-score   support\n",
      "\n",
      "           1       0.53      0.63      0.57     15075\n",
      "           2       0.40      0.37      0.39     14852\n",
      "           3       0.38      0.35      0.36     14789\n",
      "           4       0.41      0.34      0.37     15215\n",
      "           5       0.55      0.60      0.58     15068\n",
      "\n",
      "    accuracy                           0.46     74999\n",
      "   macro avg       0.45      0.46      0.45     74999\n",
      "weighted avg       0.45      0.46      0.45     74999\n",
      "\n",
      "\n"
     ]
    },
    {
     "data": {
      "text/html": [
       "<div>\n",
       "<style scoped>\n",
       "    .dataframe tbody tr th:only-of-type {\n",
       "        vertical-align: middle;\n",
       "    }\n",
       "\n",
       "    .dataframe tbody tr th {\n",
       "        vertical-align: top;\n",
       "    }\n",
       "\n",
       "    .dataframe thead th {\n",
       "        text-align: right;\n",
       "    }\n",
       "</style>\n",
       "<table border=\"1\" class=\"dataframe\">\n",
       "  <thead>\n",
       "    <tr style=\"text-align: right;\">\n",
       "      <th></th>\n",
       "      <th>rating</th>\n",
       "      <th>count</th>\n",
       "    </tr>\n",
       "  </thead>\n",
       "  <tbody>\n",
       "    <tr>\n",
       "      <td>0</td>\n",
       "      <td>1</td>\n",
       "      <td>17943</td>\n",
       "    </tr>\n",
       "    <tr>\n",
       "      <td>1</td>\n",
       "      <td>2</td>\n",
       "      <td>14065</td>\n",
       "    </tr>\n",
       "    <tr>\n",
       "      <td>2</td>\n",
       "      <td>3</td>\n",
       "      <td>13801</td>\n",
       "    </tr>\n",
       "    <tr>\n",
       "      <td>3</td>\n",
       "      <td>4</td>\n",
       "      <td>12703</td>\n",
       "    </tr>\n",
       "    <tr>\n",
       "      <td>4</td>\n",
       "      <td>5</td>\n",
       "      <td>16487</td>\n",
       "    </tr>\n",
       "  </tbody>\n",
       "</table>\n",
       "</div>"
      ],
      "text/plain": [
       "   rating  count\n",
       "0       1  17943\n",
       "1       2  14065\n",
       "2       3  13801\n",
       "3       4  12703\n",
       "4       5  16487"
      ]
     },
     "metadata": {},
     "output_type": "display_data"
    },
    {
     "data": {
      "text/plain": [
       "74999"
      ]
     },
     "metadata": {},
     "output_type": "display_data"
    },
    {
     "data": {
      "image/png": "[encoded data removed]",
      "text/plain": [
       "<Figure size 432x288 with 1 Axes>"
      ]
     },
     "metadata": {},
     "output_type": "display_data"
    }
   ],
   "source": [
    "model = MultinomialNB()\n",
    "model.fit(x_train, y_train)\n",
    "y_pred = model.predict(x_test)\n",
    "\n",
    "print(\"MultinomialNB Model\")\n",
    "print(classification_report(y_test, y_pred))\n",
    "print()\n",
    "\n",
    "mnb = np.unique(y_pred, return_counts=True)\n",
    "mnb = pd.DataFrame(mnb).T\n",
    "mnb.columns = ['rating','count']\n",
    "display(mnb)\n",
    "\n",
    "plt.figure()\n",
    "sns.barplot(x='rating', y='count', data=mnb)\n",
    "plt.savefig('mnb', bbox_inches='tight')\n",
    "\n",
    "display(len(y_pred))"
   ]
  },
  {
   "cell_type": "code",
   "execution_count": 88,
   "metadata": {},
   "outputs": [
    {
     "data": {
      "text/plain": [
       "65000"
      ]
     },
     "metadata": {},
     "output_type": "display_data"
    },
    {
     "data": {
      "image/png": "[encoded data removed]",
      "text/plain": [
       "<Figure size 432x288 with 1 Axes>"
      ]
     },
     "metadata": {},
     "output_type": "display_data"
    }
   ],
   "source": [
    "valcounts = pd.DataFrame(test.rating.value_counts())\n",
    "ratings = [5,3,1,4,2]\n",
    "valcounts['ratings'] = ratings\n",
    "valcounts = valcounts[['ratings', 'rating']]\n",
    "valcounts.columns = ['rating','count']\n",
    "plt.figure()\n",
    "sns.barplot(x='rating', y='count', data=valcounts)\n",
    "plt.savefig('test_valcounts', bbox_inches='tight')\n",
    "\n",
    "display(len(test))"
   ]
  },
  {
   "cell_type": "code",
   "execution_count": 89,
   "metadata": {},
   "outputs": [
    {
     "data": {
      "text/plain": [
       "299994"
      ]
     },
     "metadata": {},
     "output_type": "display_data"
    },
    {
     "data": {
      "image/png": "[encoded data removed]",
      "text/plain": [
       "<Figure size 432x288 with 1 Axes>"
      ]
     },
     "metadata": {},
     "output_type": "display_data"
    }
   ],
   "source": [
    "valcounts = pd.DataFrame(train.rating.value_counts())\n",
    "ratings = [5,3,1,4,2]\n",
    "valcounts['ratings'] = ratings\n",
    "valcounts = valcounts[['ratings', 'rating']]\n",
    "valcounts.columns = ['rating','count']\n",
    "plt.figure()\n",
    "sns.barplot(x='rating', y='count', data=valcounts)\n",
    "plt.savefig('train_valcounts', bbox_inches='tight')\n",
    "\n",
    "display(len(train))"
   ]
  }
 ],
 "metadata": {
  "kernelspec": {
   "display_name": "Python 3",
   "language": "python",
   "name": "python3"
  },
  "language_info": {
   "codemirror_mode": {
    "name": "ipython",
    "version": 3
   },
   "file_extension": ".py",
   "mimetype": "text/x-python",
   "name": "python",
   "nbconvert_exporter": "python",
   "pygments_lexer": "ipython3",
   "version": "3.6.9"
  }
 },
 "nbformat": 4,
 "nbformat_minor": 4
}
